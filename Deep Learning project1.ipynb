{
 "cells": [
  {
   "cell_type": "markdown",
   "metadata": {},
   "source": [
    "# Deep Learning with Python, TensorFlow and Keras"
   ]
  },
  {
   "cell_type": "code",
   "execution_count": 1,
   "metadata": {},
   "outputs": [],
   "source": [
    "#import libraries\n",
    "import tensorflow.keras as keras\n",
    "import tensorflow as tf\n",
    "# Load mnist dataset of handwritten digits 0 through 9(28*28 images)\n",
    "mnist = tf.keras.datasets.mnist "
   ]
  },
  {
   "cell_type": "code",
   "execution_count": 2,
   "metadata": {},
   "outputs": [],
   "source": [
    "#Prepare, model and train the data\n",
    "##x_train is the features(pixel values of 28*28 images of these 0-9 digits)\n",
    "(x_train, y_train), (x_test,y_test) = mnist.load_data()\n",
    "#y_train is the label(0,1,2,3,......,9)"
   ]
  },
  {
   "cell_type": "code",
   "execution_count": 3,
   "metadata": {},
   "outputs": [
    {
     "name": "stdout",
     "output_type": "stream",
     "text": [
      "[[  0   0   0   0   0   0   0   0   0   0   0   0   0   0   0   0   0   0\n",
      "    0   0   0   0   0   0   0   0   0   0]\n",
      " [  0   0   0   0   0   0   0   0   0   0   0   0   0   0   0   0   0   0\n",
      "    0   0   0   0   0   0   0   0   0   0]\n",
      " [  0   0   0   0   0   0   0   0   0   0   0   0   0   0   0   0   0   0\n",
      "    0   0   0   0   0   0   0   0   0   0]\n",
      " [  0   0   0   0   0   0   0   0   0   0   0   0   0   0   0   0   0   0\n",
      "    0   0   0   0   0   0   0   0   0   0]\n",
      " [  0   0   0   0   0   0   0   0   0   0   0   0   0   0   0   0   0   0\n",
      "    0   0   0   0   0   0   0   0   0   0]\n",
      " [  0   0   0   0   0   0   0   0   0   0   0   0   3  18  18  18 126 136\n",
      "  175  26 166 255 247 127   0   0   0   0]\n",
      " [  0   0   0   0   0   0   0   0  30  36  94 154 170 253 253 253 253 253\n",
      "  225 172 253 242 195  64   0   0   0   0]\n",
      " [  0   0   0   0   0   0   0  49 238 253 253 253 253 253 253 253 253 251\n",
      "   93  82  82  56  39   0   0   0   0   0]\n",
      " [  0   0   0   0   0   0   0  18 219 253 253 253 253 253 198 182 247 241\n",
      "    0   0   0   0   0   0   0   0   0   0]\n",
      " [  0   0   0   0   0   0   0   0  80 156 107 253 253 205  11   0  43 154\n",
      "    0   0   0   0   0   0   0   0   0   0]\n",
      " [  0   0   0   0   0   0   0   0   0  14   1 154 253  90   0   0   0   0\n",
      "    0   0   0   0   0   0   0   0   0   0]\n",
      " [  0   0   0   0   0   0   0   0   0   0   0 139 253 190   2   0   0   0\n",
      "    0   0   0   0   0   0   0   0   0   0]\n",
      " [  0   0   0   0   0   0   0   0   0   0   0  11 190 253  70   0   0   0\n",
      "    0   0   0   0   0   0   0   0   0   0]\n",
      " [  0   0   0   0   0   0   0   0   0   0   0   0  35 241 225 160 108   1\n",
      "    0   0   0   0   0   0   0   0   0   0]\n",
      " [  0   0   0   0   0   0   0   0   0   0   0   0   0  81 240 253 253 119\n",
      "   25   0   0   0   0   0   0   0   0   0]\n",
      " [  0   0   0   0   0   0   0   0   0   0   0   0   0   0  45 186 253 253\n",
      "  150  27   0   0   0   0   0   0   0   0]\n",
      " [  0   0   0   0   0   0   0   0   0   0   0   0   0   0   0  16  93 252\n",
      "  253 187   0   0   0   0   0   0   0   0]\n",
      " [  0   0   0   0   0   0   0   0   0   0   0   0   0   0   0   0   0 249\n",
      "  253 249  64   0   0   0   0   0   0   0]\n",
      " [  0   0   0   0   0   0   0   0   0   0   0   0   0   0  46 130 183 253\n",
      "  253 207   2   0   0   0   0   0   0   0]\n",
      " [  0   0   0   0   0   0   0   0   0   0   0   0  39 148 229 253 253 253\n",
      "  250 182   0   0   0   0   0   0   0   0]\n",
      " [  0   0   0   0   0   0   0   0   0   0  24 114 221 253 253 253 253 201\n",
      "   78   0   0   0   0   0   0   0   0   0]\n",
      " [  0   0   0   0   0   0   0   0  23  66 213 253 253 253 253 198  81   2\n",
      "    0   0   0   0   0   0   0   0   0   0]\n",
      " [  0   0   0   0   0   0  18 171 219 253 253 253 253 195  80   9   0   0\n",
      "    0   0   0   0   0   0   0   0   0   0]\n",
      " [  0   0   0   0  55 172 226 253 253 253 253 244 133  11   0   0   0   0\n",
      "    0   0   0   0   0   0   0   0   0   0]\n",
      " [  0   0   0   0 136 253 253 253 212 135 132  16   0   0   0   0   0   0\n",
      "    0   0   0   0   0   0   0   0   0   0]\n",
      " [  0   0   0   0   0   0   0   0   0   0   0   0   0   0   0   0   0   0\n",
      "    0   0   0   0   0   0   0   0   0   0]\n",
      " [  0   0   0   0   0   0   0   0   0   0   0   0   0   0   0   0   0   0\n",
      "    0   0   0   0   0   0   0   0   0   0]\n",
      " [  0   0   0   0   0   0   0   0   0   0   0   0   0   0   0   0   0   0\n",
      "    0   0   0   0   0   0   0   0   0   0]]\n"
     ]
    }
   ],
   "source": [
    "print(x_train[0])"
   ]
  },
  {
   "cell_type": "markdown",
   "metadata": {},
   "source": [
    "Normalizing the data. This typically involves scaling the data to be between 0 and 1, or maybe -1 and positive 1. In our case, each \"pixel\" is a feature, and each feature currently ranges from 0 to 255. Not quite 0 to 1. Let's change that with a handy utility function:"
   ]
  },
  {
   "cell_type": "code",
   "execution_count": 4,
   "metadata": {},
   "outputs": [],
   "source": [
    "# Normalize the data\n",
    "x_train = tf.keras.utils.normalize(x_train, axis = 1)\n",
    "x_test = tf.keras.utils.normalize(x_test, axis = 1)"
   ]
  },
  {
   "cell_type": "code",
   "execution_count": 5,
   "metadata": {},
   "outputs": [
    {
     "name": "stdout",
     "output_type": "stream",
     "text": [
      "Epoch 1/3\n",
      "1875/1875 [==============================] - 8s 4ms/step - loss: 0.4608 - accuracy: 0.8701\n",
      "Epoch 2/3\n",
      "1875/1875 [==============================] - 8s 4ms/step - loss: 0.1130 - accuracy: 0.9648\n",
      "Epoch 3/3\n",
      "1875/1875 [==============================] - 8s 4ms/step - loss: 0.0708 - accuracy: 0.9778\n"
     ]
    },
    {
     "data": {
      "text/plain": [
       "<tensorflow.python.keras.callbacks.History at 0x212bf13f790>"
      ]
     },
     "execution_count": 5,
     "metadata": {},
     "output_type": "execute_result"
    }
   ],
   "source": [
    "# sequential model means going in direct order(forward model)\n",
    "model = tf.keras.models.Sequential()\n",
    "# Flatten is input layer. Take the data and flatten it\n",
    "model.add(tf.keras.layers.Flatten())\n",
    "# Layer with 128 units and activation funcition is relu\n",
    "model.add(tf.keras.layers.Dense(128, activation=tf.nn.relu))\n",
    "# another identical layer for good measure\n",
    "model.add(tf.keras.layers.Dense(128, activation=tf.nn.relu))\n",
    "#output layer or final layer with 10 nodes. Each node is for possible number of prediction with activation function softmax\n",
    "model.add(tf.keras.layers.Dense(10, activation=tf.nn.softmax))\n",
    "# compile the model\n",
    "model.compile(optimizer='adam',loss= 'sparse_categorical_crossentropy', metrics=['accuracy'])\n",
    "model.fit(x_train,y_train, epochs =3)"
   ]
  },
  {
   "cell_type": "code",
   "execution_count": 6,
   "metadata": {},
   "outputs": [
    {
     "name": "stdout",
     "output_type": "stream",
     "text": [
      "313/313 [==============================] - 1s 2ms/step - loss: 0.0908 - accuracy: 0.9717\n",
      "0.09082586318254471 0.9717000126838684\n"
     ]
    }
   ],
   "source": [
    "#Loss and accuracy for in-sample data\n",
    "val_loss, val_acc = model.evaluate(x_test, y_test)\n",
    "print(val_loss, val_acc)"
   ]
  },
  {
   "cell_type": "code",
   "execution_count": 7,
   "metadata": {},
   "outputs": [
    {
     "data": {
      "image/png": "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\n",
      "text/plain": [
       "<Figure size 432x288 with 1 Axes>"
      ]
     },
     "metadata": {
      "needs_background": "light"
     },
     "output_type": "display_data"
    },
    {
     "name": "stdout",
     "output_type": "stream",
     "text": [
      "[[0.         0.         0.         0.         0.         0.\n",
      "  0.         0.         0.         0.         0.         0.\n",
      "  0.         0.         0.         0.         0.         0.\n",
      "  0.         0.         0.         0.         0.         0.\n",
      "  0.         0.         0.         0.        ]\n",
      " [0.         0.         0.         0.         0.         0.\n",
      "  0.         0.         0.         0.         0.         0.\n",
      "  0.         0.         0.         0.         0.         0.\n",
      "  0.         0.         0.         0.         0.         0.\n",
      "  0.         0.         0.         0.        ]\n",
      " [0.         0.         0.         0.         0.         0.\n",
      "  0.         0.         0.         0.         0.         0.\n",
      "  0.         0.         0.         0.         0.         0.\n",
      "  0.         0.         0.         0.         0.         0.\n",
      "  0.         0.         0.         0.        ]\n",
      " [0.         0.         0.         0.         0.         0.\n",
      "  0.         0.         0.         0.         0.         0.\n",
      "  0.         0.         0.         0.         0.         0.\n",
      "  0.         0.         0.         0.         0.         0.\n",
      "  0.         0.         0.         0.        ]\n",
      " [0.         0.         0.         0.         0.         0.\n",
      "  0.         0.         0.         0.         0.         0.\n",
      "  0.         0.         0.         0.         0.         0.\n",
      "  0.         0.         0.         0.         0.         0.\n",
      "  0.         0.         0.         0.        ]\n",
      " [0.         0.         0.         0.         0.         0.\n",
      "  0.         0.         0.         0.         0.         0.\n",
      "  0.00393124 0.02332955 0.02620568 0.02625207 0.17420356 0.17566281\n",
      "  0.28629534 0.05664824 0.51877786 0.71632322 0.77892406 0.89301644\n",
      "  0.         0.         0.         0.        ]\n",
      " [0.         0.         0.         0.         0.         0.\n",
      "  0.         0.         0.05780486 0.06524513 0.16128198 0.22713296\n",
      "  0.22277047 0.32790981 0.36833534 0.3689874  0.34978968 0.32678448\n",
      "  0.368094   0.3747499  0.79066747 0.67980478 0.61494005 0.45002403\n",
      "  0.         0.         0.         0.        ]\n",
      " [0.         0.         0.         0.         0.         0.\n",
      "  0.         0.12250613 0.45858525 0.45852825 0.43408872 0.37314701\n",
      "  0.33153488 0.32790981 0.36833534 0.3689874  0.34978968 0.32420121\n",
      "  0.15214552 0.17865984 0.25626376 0.1573102  0.12298801 0.\n",
      "  0.         0.         0.         0.        ]\n",
      " [0.         0.         0.         0.         0.         0.\n",
      "  0.         0.04500225 0.4219755  0.45852825 0.43408872 0.37314701\n",
      "  0.33153488 0.32790981 0.28826244 0.26543758 0.34149427 0.31128482\n",
      "  0.         0.         0.         0.         0.         0.\n",
      "  0.         0.         0.         0.        ]\n",
      " [0.         0.         0.         0.         0.         0.\n",
      "  0.         0.         0.1541463  0.28272888 0.18358693 0.37314701\n",
      "  0.33153488 0.26569767 0.01601458 0.         0.05945042 0.19891229\n",
      "  0.         0.         0.         0.         0.         0.\n",
      "  0.         0.         0.         0.        ]\n",
      " [0.         0.         0.         0.         0.         0.\n",
      "  0.         0.         0.         0.0253731  0.00171577 0.22713296\n",
      "  0.33153488 0.11664776 0.         0.         0.         0.\n",
      "  0.         0.         0.         0.         0.         0.\n",
      "  0.         0.         0.         0.        ]\n",
      " [0.         0.         0.         0.         0.         0.\n",
      "  0.         0.         0.         0.         0.         0.20500962\n",
      "  0.33153488 0.24625638 0.00291174 0.         0.         0.\n",
      "  0.         0.         0.         0.         0.         0.\n",
      "  0.         0.         0.         0.        ]\n",
      " [0.         0.         0.         0.         0.         0.\n",
      "  0.         0.         0.         0.         0.         0.01622378\n",
      "  0.24897876 0.32790981 0.10191096 0.         0.         0.\n",
      "  0.         0.         0.         0.         0.         0.\n",
      "  0.         0.         0.         0.        ]\n",
      " [0.         0.         0.         0.         0.         0.\n",
      "  0.         0.         0.         0.         0.         0.\n",
      "  0.04586451 0.31235677 0.32757096 0.23335172 0.14931733 0.00129164\n",
      "  0.         0.         0.         0.         0.         0.\n",
      "  0.         0.         0.         0.        ]\n",
      " [0.         0.         0.         0.         0.         0.\n",
      "  0.         0.         0.         0.         0.         0.\n",
      "  0.         0.10498298 0.34940902 0.3689874  0.34978968 0.15370495\n",
      "  0.04089933 0.         0.         0.         0.         0.\n",
      "  0.         0.         0.         0.        ]\n",
      " [0.         0.         0.         0.         0.         0.\n",
      "  0.         0.         0.         0.         0.         0.\n",
      "  0.         0.         0.06551419 0.27127137 0.34978968 0.32678448\n",
      "  0.245396   0.05882702 0.         0.         0.         0.\n",
      "  0.         0.         0.         0.        ]\n",
      " [0.         0.         0.         0.         0.         0.\n",
      "  0.         0.         0.         0.         0.         0.\n",
      "  0.         0.         0.         0.02333517 0.12857881 0.32549285\n",
      "  0.41390126 0.40743158 0.         0.         0.         0.\n",
      "  0.         0.         0.         0.        ]\n",
      " [0.         0.         0.         0.         0.         0.\n",
      "  0.         0.         0.         0.         0.         0.\n",
      "  0.         0.         0.         0.         0.         0.32161793\n",
      "  0.41390126 0.54251585 0.20001074 0.         0.         0.\n",
      "  0.         0.         0.         0.        ]\n",
      " [0.         0.         0.         0.         0.         0.\n",
      "  0.         0.         0.         0.         0.         0.\n",
      "  0.         0.         0.06697006 0.18959827 0.25300993 0.32678448\n",
      "  0.41390126 0.45100715 0.00625034 0.         0.         0.\n",
      "  0.         0.         0.         0.        ]\n",
      " [0.         0.         0.         0.         0.         0.\n",
      "  0.         0.         0.         0.         0.         0.\n",
      "  0.05110617 0.19182076 0.33339444 0.3689874  0.34978968 0.32678448\n",
      "  0.40899334 0.39653769 0.         0.         0.         0.\n",
      "  0.         0.         0.         0.        ]\n",
      " [0.         0.         0.         0.         0.         0.\n",
      "  0.         0.         0.         0.         0.04117838 0.16813739\n",
      "  0.28960162 0.32790981 0.36833534 0.3689874  0.34978968 0.25961929\n",
      "  0.12760592 0.         0.         0.         0.         0.\n",
      "  0.         0.         0.         0.        ]\n",
      " [0.         0.         0.         0.         0.         0.\n",
      "  0.         0.         0.04431706 0.11961607 0.36545809 0.37314701\n",
      "  0.33153488 0.32790981 0.36833534 0.28877275 0.111988   0.00258328\n",
      "  0.         0.         0.         0.         0.         0.\n",
      "  0.         0.         0.         0.        ]\n",
      " [0.         0.         0.         0.         0.         0.\n",
      "  0.05298497 0.42752138 0.4219755  0.45852825 0.43408872 0.37314701\n",
      "  0.33153488 0.25273681 0.11646967 0.01312603 0.         0.\n",
      "  0.         0.         0.         0.         0.         0.\n",
      "  0.         0.         0.         0.        ]\n",
      " [0.         0.         0.         0.         0.37491383 0.56222061\n",
      "  0.66525569 0.63253163 0.48748768 0.45852825 0.43408872 0.359873\n",
      "  0.17428513 0.01425695 0.         0.         0.         0.\n",
      "  0.         0.         0.         0.         0.         0.\n",
      "  0.         0.         0.         0.        ]\n",
      " [0.         0.         0.         0.         0.92705966 0.82698729\n",
      "  0.74473314 0.63253163 0.4084877  0.24466922 0.22648107 0.02359823\n",
      "  0.         0.         0.         0.         0.         0.\n",
      "  0.         0.         0.         0.         0.         0.\n",
      "  0.         0.         0.         0.        ]\n",
      " [0.         0.         0.         0.         0.         0.\n",
      "  0.         0.         0.         0.         0.         0.\n",
      "  0.         0.         0.         0.         0.         0.\n",
      "  0.         0.         0.         0.         0.         0.\n",
      "  0.         0.         0.         0.        ]\n",
      " [0.         0.         0.         0.         0.         0.\n",
      "  0.         0.         0.         0.         0.         0.\n",
      "  0.         0.         0.         0.         0.         0.\n",
      "  0.         0.         0.         0.         0.         0.\n",
      "  0.         0.         0.         0.        ]\n",
      " [0.         0.         0.         0.         0.         0.\n",
      "  0.         0.         0.         0.         0.         0.\n",
      "  0.         0.         0.         0.         0.         0.\n",
      "  0.         0.         0.         0.         0.         0.\n",
      "  0.         0.         0.         0.        ]]\n"
     ]
    }
   ],
   "source": [
    "# visualize the data\n",
    "import matplotlib.pyplot as plt\n",
    "plt.imshow(x_train[0], cmap=plt.cm.binary)\n",
    "plt.show()\n",
    "print(x_train[0])"
   ]
  },
  {
   "cell_type": "code",
   "execution_count": 8,
   "metadata": {},
   "outputs": [
    {
     "name": "stdout",
     "output_type": "stream",
     "text": [
      "INFO:tensorflow:Assets written to: epic_num_reader.model\\assets\n"
     ]
    }
   ],
   "source": [
    "#\n",
    "model.save('epic_num_reader.model')"
   ]
  },
  {
   "cell_type": "code",
   "execution_count": 9,
   "metadata": {},
   "outputs": [],
   "source": [
    "new_model = tf.keras.models.load_model('epic_num_reader.model')"
   ]
  },
  {
   "cell_type": "code",
   "execution_count": 10,
   "metadata": {},
   "outputs": [],
   "source": [
    "predictions = new_model.predict([x_test])"
   ]
  },
  {
   "cell_type": "code",
   "execution_count": 11,
   "metadata": {},
   "outputs": [
    {
     "name": "stdout",
     "output_type": "stream",
     "text": [
      "[[8.3276790e-09 6.7943944e-08 1.7567090e-05 ... 9.9964774e-01\n",
      "  1.5015242e-07 4.2000548e-07]\n",
      " [1.0562771e-09 1.3182367e-02 9.8675889e-01 ... 1.9847779e-07\n",
      "  2.3199084e-06 9.2092783e-12]\n",
      " [9.3407385e-07 9.9825877e-01 9.0947717e-05 ... 9.6897996e-04\n",
      "  4.5729510e-04 3.0326069e-05]\n",
      " ...\n",
      " [8.9519938e-09 5.1503991e-07 6.6990744e-08 ... 2.9796403e-05\n",
      "  1.7634113e-05 2.3230384e-04]\n",
      " [9.1119518e-06 4.2465090e-06 4.5463358e-07 ... 3.7401705e-07\n",
      "  1.4227153e-01 5.3708476e-07]\n",
      " [2.8513836e-07 1.1722814e-06 3.5765808e-08 ... 5.1825827e-10\n",
      "  7.6602055e-07 2.3718069e-08]]\n"
     ]
    }
   ],
   "source": [
    "print(predictions)"
   ]
  },
  {
   "cell_type": "code",
   "execution_count": 12,
   "metadata": {},
   "outputs": [
    {
     "name": "stdout",
     "output_type": "stream",
     "text": [
      "3\n"
     ]
    }
   ],
   "source": [
    "import numpy as np\n",
    "print(np.argmax(predictions[18]))"
   ]
  },
  {
   "cell_type": "code",
   "execution_count": 13,
   "metadata": {},
   "outputs": [
    {
     "data": {
      "image/png": "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\n",
      "text/plain": [
       "<Figure size 432x288 with 1 Axes>"
      ]
     },
     "metadata": {
      "needs_background": "light"
     },
     "output_type": "display_data"
    }
   ],
   "source": [
    "plt.imshow(x_test[18])\n",
    "plt.show()"
   ]
  },
  {
   "cell_type": "code",
   "execution_count": 14,
   "metadata": {},
   "outputs": [
    {
     "data": {
      "image/png": "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\n",
      "text/plain": [
       "<Figure size 432x288 with 1 Axes>"
      ]
     },
     "metadata": {
      "needs_background": "light"
     },
     "output_type": "display_data"
    }
   ],
   "source": [
    "plt.imshow(x_test[18],cmap=plt.cm.binary)\n",
    "plt.show()"
   ]
  },
  {
   "cell_type": "code",
   "execution_count": null,
   "metadata": {},
   "outputs": [],
   "source": []
  }
 ],
 "metadata": {
  "kernelspec": {
   "display_name": "Python 3",
   "language": "python",
   "name": "python3"
  },
  "language_info": {
   "codemirror_mode": {
    "name": "ipython",
    "version": 3
   },
   "file_extension": ".py",
   "mimetype": "text/x-python",
   "name": "python",
   "nbconvert_exporter": "python",
   "pygments_lexer": "ipython3",
   "version": "3.8.5"
  }
 },
 "nbformat": 4,
 "nbformat_minor": 4
}
###
